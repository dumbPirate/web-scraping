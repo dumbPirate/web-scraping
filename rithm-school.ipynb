{
 "cells": [
  {
   "cell_type": "code",
   "execution_count": 4,
   "metadata": {
    "ExecuteTime": {
     "end_time": "2019-10-20T04:38:05.349264Z",
     "start_time": "2019-10-20T04:38:05.338273Z"
    }
   },
   "outputs": [],
   "source": [
    "from bs4 import BeautifulSoup as bs\n",
    "import requests as req\n",
    "import csv"
   ]
  },
  {
   "cell_type": "code",
   "execution_count": 8,
   "metadata": {
    "ExecuteTime": {
     "end_time": "2019-10-20T04:40:50.896626Z",
     "start_time": "2019-10-20T04:40:48.974087Z"
    }
   },
   "outputs": [
    {
     "data": {
      "text/plain": [
       "<Response [200]>"
      ]
     },
     "execution_count": 8,
     "metadata": {},
     "output_type": "execute_result"
    }
   ],
   "source": [
    "res = req.get('https://www.rithmschool.com/blog')\n",
    "res"
   ]
  },
  {
   "cell_type": "code",
   "execution_count": 11,
   "metadata": {
    "ExecuteTime": {
     "end_time": "2019-10-20T04:44:35.274473Z",
     "start_time": "2019-10-20T04:44:35.223479Z"
    }
   },
   "outputs": [],
   "source": [
    "soup = bs(res.text, 'html.parser')"
   ]
  },
  {
   "cell_type": "code",
   "execution_count": 13,
   "metadata": {
    "ExecuteTime": {
     "end_time": "2019-10-20T04:46:25.115844Z",
     "start_time": "2019-10-20T04:46:25.108854Z"
    }
   },
   "outputs": [],
   "source": [
    "articles = soup.find_all('article')"
   ]
  },
  {
   "cell_type": "code",
   "execution_count": 17,
   "metadata": {
    "ExecuteTime": {
     "end_time": "2019-10-20T04:52:32.867242Z",
     "start_time": "2019-10-20T04:52:32.851253Z"
    }
   },
   "outputs": [
    {
     "name": "stdout",
     "output_type": "stream",
     "text": [
      "An Introduction to GraphQL - Queries /blog/an-introduction-to-graphql-queries 2019-10-15\n",
      "Alumni Spotlight: Sandy Cao /blog/alumni-spotlight-sandy 2019-10-10\n",
      "Student Interview: Pair Programming And Company Projects /blog/student-interview-pair-programming-and-company-projects 2019-09-03\n",
      "Getting Acquainted With A Production Code Base /blog/getting-up-to-speed-on-a-production-code-base 2019-06-18\n",
      "Staff Spotlight - Zach DeRossette, Career Coach /blog/staff-spotlight-zach-derossette 2019-05-22\n",
      "Student Interview: Lena Ryoo on Company Projects /blog/student-interview-lena-ryoo 2019-05-15\n",
      "Debugging Like a Scientist /blog/debugging-like-a-scientist 2019-04-29\n",
      "The Benefits of Code Reviews /blog/benefits-of-code-reviews 2019-03-29\n",
      "Three More JavaScript Mistakes That Beginners Make /blog/three-more-js-mistakes-that-beginners-make 2019-03-07\n",
      "Alumni Spotlight: Miranda Howitt /blog/alumni-spotlight-miranda 2019-02-12\n"
     ]
    }
   ],
   "source": [
    "for article in articles:\n",
    "    title = article.find('a').get_text()\n",
    "    url = article.find('a')['href']\n",
    "    date = article.find('time')['datetime']\n",
    "    print(title, url, date)"
   ]
  },
  {
   "cell_type": "code",
   "execution_count": null,
   "metadata": {},
   "outputs": [],
   "source": []
  }
 ],
 "metadata": {
  "kernelspec": {
   "display_name": "Python 3",
   "language": "python",
   "name": "python3"
  },
  "language_info": {
   "codemirror_mode": {
    "name": "ipython",
    "version": 3
   },
   "file_extension": ".py",
   "mimetype": "text/x-python",
   "name": "python",
   "nbconvert_exporter": "python",
   "pygments_lexer": "ipython3",
   "version": "3.7.2"
  },
  "varInspector": {
   "cols": {
    "lenName": 16,
    "lenType": 16,
    "lenVar": 40
   },
   "kernels_config": {
    "python": {
     "delete_cmd_postfix": "",
     "delete_cmd_prefix": "del ",
     "library": "var_list.py",
     "varRefreshCmd": "print(var_dic_list())"
    },
    "r": {
     "delete_cmd_postfix": ") ",
     "delete_cmd_prefix": "rm(",
     "library": "var_list.r",
     "varRefreshCmd": "cat(var_dic_list()) "
    }
   },
   "types_to_exclude": [
    "module",
    "function",
    "builtin_function_or_method",
    "instance",
    "_Feature"
   ],
   "window_display": false
  }
 },
 "nbformat": 4,
 "nbformat_minor": 2
}
