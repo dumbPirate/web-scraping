{
 "cells": [
  {
   "cell_type": "code",
   "execution_count": 72,
   "metadata": {
    "ExecuteTime": {
     "end_time": "2019-10-20T05:44:57.199665Z",
     "start_time": "2019-10-20T05:44:57.193669Z"
    }
   },
   "outputs": [],
   "source": [
    "from bs4 import BeautifulSoup as bs\n",
    "import requests as req\n",
    "from csv import writer\n",
    "import time"
   ]
  },
  {
   "cell_type": "code",
   "execution_count": 63,
   "metadata": {
    "ExecuteTime": {
     "end_time": "2019-10-20T05:38:19.450629Z",
     "start_time": "2019-10-20T05:38:17.978610Z"
    },
    "scrolled": true
   },
   "outputs": [
    {
     "data": {
      "text/plain": [
       "<Response [200]>"
      ]
     },
     "execution_count": 63,
     "metadata": {},
     "output_type": "execute_result"
    }
   ],
   "source": [
    "response = req.get('https://www.rithmschool.com/blog')\n",
    "response"
   ]
  },
  {
   "cell_type": "code",
   "execution_count": 69,
   "metadata": {
    "ExecuteTime": {
     "end_time": "2019-10-20T05:40:24.997775Z",
     "start_time": "2019-10-20T05:40:24.942733Z"
    }
   },
   "outputs": [],
   "source": [
    "big_soup = bs(response.text, 'html.parser')"
   ]
  },
  {
   "cell_type": "code",
   "execution_count": 70,
   "metadata": {
    "ExecuteTime": {
     "end_time": "2019-10-20T05:40:26.221215Z",
     "start_time": "2019-10-20T05:40:26.199228Z"
    }
   },
   "outputs": [
    {
     "data": {
      "text/plain": [
       "10"
      ]
     },
     "execution_count": 70,
     "metadata": {},
     "output_type": "execute_result"
    }
   ],
   "source": [
    "total_page = int(big_soup.select('.last')[0].find('a')['href'][-2:])\n",
    "total_page"
   ]
  },
  {
   "cell_type": "code",
   "execution_count": 87,
   "metadata": {
    "ExecuteTime": {
     "end_time": "2019-10-20T05:59:07.089689Z",
     "start_time": "2019-10-20T05:58:41.871105Z"
    }
   },
   "outputs": [
    {
     "name": "stdout",
     "output_type": "stream",
     "text": [
      "https://www.rithmschool.com/blog?page=1\n",
      "An Introduction to GraphQL - Queries\n",
      "Alumni Spotlight: Sandy Cao\n",
      "Student Interview: Pair Programming And Company Projects\n",
      "Getting Acquainted With A Production Code Base\n",
      "Staff Spotlight - Zach DeRossette, Career Coach\n",
      "Student Interview: Lena Ryoo on Company Projects\n",
      "Debugging Like a Scientist\n",
      "The Benefits of Code Reviews\n",
      "Three More JavaScript Mistakes That Beginners Make\n",
      "Alumni Spotlight: Miranda Howitt\n",
      "https://www.rithmschool.com/blog?page=2\n",
      "Alumni Spotlight: Kristen Lingwood\n",
      "Alumni Spotlight: Tyler Ketron\n",
      "Avoiding Burnout\n",
      "Student Interview: Sarah + Zac on Company Projects\n",
      "A New Tuition Option: We Make Money Only When You Do\n",
      "MongoDB is Easy\n",
      "Meet The Instructor: Alissa Renz\n",
      "Error Handling in Express\n",
      "Four Tips for Moving Faster as a Developer\n",
      "Five Tips to Manage the Emotional Side of a Coding Program\n",
      "https://www.rithmschool.com/blog?page=3\n",
      "Does Emotional Intelligence Get You Paid More in Tech?\n",
      "Post-Outcomes Blog: Top 3 Insights for Job-Seekers\n",
      "Staff Spotlight - Megan Lane, Operations & Events Associate\n",
      "Different Approaches to Using Relational Databases with Express\n",
      "The Job Funnel\n",
      "Alumni Spotlight: Daniel Szabo\n",
      "Rithm School Interview FAQs\n",
      "BPPE Approval and Outcomes Numbers\n",
      "What’s New in Python 3.7: Data Classes\n",
      "Five Tips for Getting Yourself Unstuck\n",
      "https://www.rithmschool.com/blog?page=4\n",
      "A Roadmap for Learning How To Code - Part 3\n",
      "Student Interview: Paula + Miranda on Company Projects\n",
      "Five Essential Rules when Job Searching\n",
      "Outcomes: A Preview\n",
      "The Benefit of Low-Abstraction Frameworks for Scaffolding Learning\n",
      "Are Coding Schools Worth the Cost?\n",
      "A Roadmap for Learning How To Code - Part 2\n",
      "Meet The Instructor: Joel Burton\n",
      "Alumni Spotlight: Anna-Brit Schlaepfer\n",
      "The Art of Outreach\n",
      "https://www.rithmschool.com/blog?page=5\n",
      "Intro to VS Code\n",
      "Debugging Like a Developer\n",
      "Student Interview: Allie + Stephen on Company Projects\n",
      "A Roadmap for Learning How To Code - Part 1\n",
      "Computer Science Degree vs. Coding Bootcamp Tradeoffs\n",
      "New Year's Resolutions: Developer Edition\n",
      "Student Spotlight: Sean Mangosing\n",
      "New Year, New Outcomes\n",
      "Five Tips for Landing a Job as a Bootcamp Grad\n",
      "Our Newest Scholarship, Diversity, and How Rithm Supports Your Coding Education\n",
      "https://www.rithmschool.com/blog?page=6\n",
      "Why Pay For School?\n",
      "This Holiday Season, Give Back to Tech for Good\n",
      "Meet The Instructor: Michael Hueter\n",
      "Student Spotlight: Adele Landers\n",
      "Do Web Developers Need to be Good at Math?\n",
      "Top 4 JavaScript Mistakes That Beginners Make\n",
      "Interview With An Alumni: Katie Krieger\n",
      "What Makes a Successful Student?\n",
      "5 Topics To Master Before Learning React\n",
      "Soft Skills That Actually Matter In Tech\n",
      "https://www.rithmschool.com/blog?page=7\n",
      "What I Wish Someone Had Told Me Before I Learned To Code\n",
      "Rithm School Scholarship Winner Interview: Michelle Huynh\n",
      "A Bootcamp Bubble?\n",
      "Student Interview: Julia Hazer on Company Projects\n",
      "Five Tips to Get Into Rithm\n",
      "Problem Solving Strategies: Look Back and Refactor\n",
      "Student Interview: Shriya Nevatia\n",
      "Scholarships, Diversity and How Rithm Supports Your Coding Education\n",
      "Demystifying Deep Learning\n",
      "Staff Spotlight: Angelina Davis, Admissions Manager\n",
      "https://www.rithmschool.com/blog?page=8\n",
      "Student Interview: Torre Taylor on Company Projects\n",
      "Becoming a Self-Reliant Developer\n",
      "You Should Be Going To Tech Conferences\n",
      "Student Interview: Andrew Mundy\n",
      "She’s Been Persisting: 6 Women in Tech Organizations You Should Know About\n",
      "Bootcamp Curious? Perspective from a Recovering Academic\n",
      "Problem Solving Strategies: Use Tools Strategically\n",
      "Problem Solving Strategies: Solve a Simpler Problem\n",
      "Your Roadmap to Learning JavaScript\n",
      "What A Small Class Size Meant to Me\n",
      "https://www.rithmschool.com/blog?page=9\n",
      "Student Interview: Greg\n",
      "How to Prepare for the Rithm Technical Interview\n",
      "Problem Solving Strategies: Break It Down\n",
      "Problem Solving Strategies: Explore Concrete Examples\n",
      "Problem Solving Strategies: Understand the Problem\n",
      "Why Do You Want To Code?\n",
      "Essential Tools for Web Development\n",
      "Five Reasons to Learn JavaScript\n",
      "Free Course Prep\n",
      "Building Better Job Support\n",
      "https://www.rithmschool.com/blog?page=10\n",
      "Why Another Bootcamp?\n"
     ]
    }
   ],
   "source": [
    "with open('blog_data.csv', 'w') as csv_file:\n",
    "    csv_writer = writer(csv_file)\n",
    "    csv_writer.writerow(['title', 'link', 'date'])\n",
    "    for page in range(1,total_page+1):\n",
    "        url = 'https://www.rithmschool.com/blog?page=' + str(page)\n",
    "        res = req.get(url)\n",
    "#         print(url)\n",
    "        soup = bs(res.text, 'html.parser')\n",
    "        articles = soup.find_all('article')\n",
    "        time.sleep(1)\n",
    "        for article in articles:\n",
    "            title = article.find('a').get_text()\n",
    "            link = article.find('a')['href']\n",
    "            date = article.find('time')['datetime']\n",
    "            csv_writer.writerow([title,link,date])\n",
    "#             print(title)"
   ]
  },
  {
   "cell_type": "code",
   "execution_count": null,
   "metadata": {},
   "outputs": [],
   "source": []
  }
 ],
 "metadata": {
  "kernelspec": {
   "display_name": "Python 3",
   "language": "python",
   "name": "python3"
  },
  "language_info": {
   "codemirror_mode": {
    "name": "ipython",
    "version": 3
   },
   "file_extension": ".py",
   "mimetype": "text/x-python",
   "name": "python",
   "nbconvert_exporter": "python",
   "pygments_lexer": "ipython3",
   "version": "3.7.2"
  },
  "varInspector": {
   "cols": {
    "lenName": 16,
    "lenType": 16,
    "lenVar": 40
   },
   "kernels_config": {
    "python": {
     "delete_cmd_postfix": "",
     "delete_cmd_prefix": "del ",
     "library": "var_list.py",
     "varRefreshCmd": "print(var_dic_list())"
    },
    "r": {
     "delete_cmd_postfix": ") ",
     "delete_cmd_prefix": "rm(",
     "library": "var_list.r",
     "varRefreshCmd": "cat(var_dic_list()) "
    }
   },
   "types_to_exclude": [
    "module",
    "function",
    "builtin_function_or_method",
    "instance",
    "_Feature"
   ],
   "window_display": false
  }
 },
 "nbformat": 4,
 "nbformat_minor": 2
}
