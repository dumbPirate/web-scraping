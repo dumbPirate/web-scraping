{
 "cells": [
  {
   "cell_type": "code",
   "execution_count": 20,
   "metadata": {
    "ExecuteTime": {
     "end_time": "2019-10-20T07:01:46.056994Z",
     "start_time": "2019-10-20T07:01:46.051994Z"
    }
   },
   "outputs": [],
   "source": [
    "from bs4 import BeautifulSoup as bs\n",
    "import requests as req\n",
    "from time import sleep"
   ]
  },
  {
   "cell_type": "code",
   "execution_count": 27,
   "metadata": {
    "ExecuteTime": {
     "end_time": "2019-10-20T07:03:06.986955Z",
     "start_time": "2019-10-20T07:03:06.981978Z"
    }
   },
   "outputs": [],
   "source": [
    "base_url = 'http://quotes.toscrape.com'\n",
    "url = '/page/1'\n",
    "all_quotes = []"
   ]
  },
  {
   "cell_type": "code",
   "execution_count": null,
   "metadata": {
    "ExecuteTime": {
     "start_time": "2019-10-20T07:03:07.973Z"
    }
   },
   "outputs": [
    {
     "name": "stdout",
     "output_type": "stream",
     "text": [
      "now http://quotes.toscrape.com/page/1 ....\n",
      "now http://quotes.toscrape.com/page/2/ ....\n",
      "now http://quotes.toscrape.com/page/3/ ....\n",
      "now http://quotes.toscrape.com/page/4/ ....\n",
      "now http://quotes.toscrape.com/page/5/ ....\n",
      "now http://quotes.toscrape.com/page/6/ ....\n",
      "now http://quotes.toscrape.com/page/7/ ....\n",
      "now http://quotes.toscrape.com/page/8/ ....\n"
     ]
    }
   ],
   "source": [
    "while url:\n",
    "    res = req.get(f'{base_url}{url}')\n",
    "    print(f'now {base_url}{url} ....')\n",
    "    soup = bs(res.text, 'html.parser')\n",
    "    quotes = soup.find_all(class_ = 'quote')\n",
    "    \n",
    "    for quote in quotes:\n",
    "        all_quotes.append({\n",
    "            'author': quote.find(class_ = 'author').get_text(),\n",
    "            'text': quote.find(class_ = 'text').get_text(),\n",
    "            'bio_link': quote.find('a')['href']\n",
    "        })\n",
    "    \n",
    "    nxt = soup.find(class_ = 'next')\n",
    "    url = nxt.find('a')['href'] if nxt else None\n",
    "    sleep(1)\n",
    "# print(all_quotes)"
   ]
  },
  {
   "cell_type": "code",
   "execution_count": null,
   "metadata": {},
   "outputs": [],
   "source": []
  }
 ],
 "metadata": {
  "kernelspec": {
   "display_name": "Python 3",
   "language": "python",
   "name": "python3"
  },
  "language_info": {
   "codemirror_mode": {
    "name": "ipython",
    "version": 3
   },
   "file_extension": ".py",
   "mimetype": "text/x-python",
   "name": "python",
   "nbconvert_exporter": "python",
   "pygments_lexer": "ipython3",
   "version": "3.7.2"
  },
  "varInspector": {
   "cols": {
    "lenName": 16,
    "lenType": 16,
    "lenVar": 40
   },
   "kernels_config": {
    "python": {
     "delete_cmd_postfix": "",
     "delete_cmd_prefix": "del ",
     "library": "var_list.py",
     "varRefreshCmd": "print(var_dic_list())"
    },
    "r": {
     "delete_cmd_postfix": ") ",
     "delete_cmd_prefix": "rm(",
     "library": "var_list.r",
     "varRefreshCmd": "cat(var_dic_list()) "
    }
   },
   "types_to_exclude": [
    "module",
    "function",
    "builtin_function_or_method",
    "instance",
    "_Feature"
   ],
   "window_display": false
  }
 },
 "nbformat": 4,
 "nbformat_minor": 2
}
