{
 "cells": [
  {
   "cell_type": "code",
   "execution_count": 14,
   "metadata": {
    "ExecuteTime": {
     "end_time": "2019-10-20T08:21:38.630492Z",
     "start_time": "2019-10-20T08:21:38.625493Z"
    }
   },
   "outputs": [],
   "source": [
    "from bs4 import BeautifulSoup as bs\n",
    "import requests as req\n",
    "from time import sleep\n",
    "from random import choice"
   ]
  },
  {
   "cell_type": "code",
   "execution_count": 15,
   "metadata": {
    "ExecuteTime": {
     "end_time": "2019-10-20T08:21:39.475833Z",
     "start_time": "2019-10-20T08:21:39.470844Z"
    }
   },
   "outputs": [],
   "source": [
    "BASE_URL = 'http://quotes.toscrape.com'\n",
    "url = '/page/1'\n",
    "all_quotes = []"
   ]
  },
  {
   "cell_type": "code",
   "execution_count": 16,
   "metadata": {
    "ExecuteTime": {
     "end_time": "2019-10-20T08:21:45.490164Z",
     "start_time": "2019-10-20T08:21:40.258560Z"
    }
   },
   "outputs": [
    {
     "name": "stdout",
     "output_type": "stream",
     "text": [
      "now http://quotes.toscrape.com/page/1 ....\n",
      "now http://quotes.toscrape.com/page/2/ ....\n",
      "now http://quotes.toscrape.com/page/3/ ....\n",
      "now http://quotes.toscrape.com/page/4/ ....\n",
      "now http://quotes.toscrape.com/page/5/ ....\n",
      "now http://quotes.toscrape.com/page/6/ ....\n",
      "now http://quotes.toscrape.com/page/7/ ....\n",
      "now http://quotes.toscrape.com/page/8/ ....\n",
      "now http://quotes.toscrape.com/page/9/ ....\n",
      "now http://quotes.toscrape.com/page/10/ ....\n"
     ]
    }
   ],
   "source": [
    "while url:\n",
    "    res = req.get(f'{BASE_URL}{url}')\n",
    "    print(f'now {BASE_URL}{url} ....')\n",
    "    soup = bs(res.text, 'html.parser')\n",
    "    quotes = soup.find_all(class_ = 'quote')\n",
    "    \n",
    "    for quote in quotes:\n",
    "        all_quotes.append({\n",
    "            'author': quote.find(class_ = 'author').get_text(),\n",
    "            'text': quote.find(class_ = 'text').get_text(),\n",
    "            'bio_link': quote.find('a')['href']\n",
    "        })\n",
    "    \n",
    "    nxt = soup.find(class_ = 'next')\n",
    "    url = nxt.find('a')['href'] if nxt else None\n",
    "#     sleep(1)\n",
    "# print(all_quotes)"
   ]
  },
  {
   "cell_type": "code",
   "execution_count": 19,
   "metadata": {
    "ExecuteTime": {
     "end_time": "2019-10-20T08:24:48.363779Z",
     "start_time": "2019-10-20T08:24:09.558054Z"
    }
   },
   "outputs": [
    {
     "name": "stdout",
     "output_type": "stream",
     "text": [
      "Quote:\n",
      "“To love at all is to be vulnerable. Love anything and your heart will be wrung and possibly broken. If you want to make sure of keeping it intact you must give it to no one, not even an animal. Wrap it carefully round with hobbies and little luxuries; avoid all entanglements. Lock it up safe in the casket or coffin of your selfishness. But in that casket, safe, dark, motionless, airless, it will change. It will not be broken; it will become unbreakable, impenetrable, irredeemable. To love is to be vulnerable.”\n",
      "Who said this quote? Guesses remaining: 4\n",
      "hjhj\n",
      "Here's a hint: The author was born on November 29, 1898 in Belfast, Ireland\n",
      "Who said this quote? Guesses remaining: 3\n",
      "lkj\n",
      "Here's another hint: The author's first name starts with: C\n",
      "Who said this quote? Guesses remaining: 2\n",
      "lkj\n",
      "Another hint: The author's last name starts with: L\n",
      "Who said this quote? Guesses remaining: 1\n",
      "ljk\n",
      "Sorry you ran out of guesses. The answere was C.S. Lewis\n",
      "Would you like to play again (y/n)k\n",
      "Would you like to play again (y/n)k\n",
      "Would you like to play again (y/n)n\n",
      "OK GOODBYE!\n"
     ]
    }
   ],
   "source": [
    "def start_game():\n",
    "    quote = choice(all_quotes)\n",
    "    remaining_guesses = 4\n",
    "    guess = ''\n",
    "    print(\"Quote:\")\n",
    "    print(quote['text'])\n",
    "    # print(quote['author'])\n",
    "    while remaining_guesses > 0:\n",
    "        guess = input(f'Who said this quote? Guesses remaining: {remaining_guesses}\\n')\n",
    "        res = req.get(f\"{BASE_URL}{quote['bio_link']}\")\n",
    "        soup = bs(res.text, 'html.parser')\n",
    "        birth_date = soup.find(class_ = 'author-born-date').get_text()\n",
    "        birth_place = soup.find(class_ = 'author-born-location').get_text()\n",
    "        remaining_guesses -= 1\n",
    "        if guess.lower() == quote['author'].lower():\n",
    "            print('YOU GOT IT!')\n",
    "            break\n",
    "        if remaining_guesses == 3:\n",
    "            print(f\"Here's a hint: The author was born on {birth_date} {birth_place}\")\n",
    "        elif remaining_guesses ==2:\n",
    "            print(f\"Here's another hint: The author's first name starts with: {quote['author'][0]}\")\n",
    "        elif remaining_guesses ==1:\n",
    "            print(f\"Another hint: The author's last name starts with: {quote['author'].split(' ')[-1][0]}\")\n",
    "        else:\n",
    "            print(f\"Sorry you ran out of guesses. The answere was {quote['author']}\")\n",
    "    again = ''\n",
    "    while again.lower() not in ('y', 'yes', 'n', 'no'):\n",
    "        again = input(\"Would you like to play again (y/n)\")\n",
    "    if again.lower() in ('yes','y'):\n",
    "        return start_game()\n",
    "    else:\n",
    "        print('OK GOODBYE!')\n",
    "start_game()"
   ]
  },
  {
   "cell_type": "code",
   "execution_count": null,
   "metadata": {},
   "outputs": [],
   "source": []
  }
 ],
 "metadata": {
  "kernelspec": {
   "display_name": "Python 3",
   "language": "python",
   "name": "python3"
  },
  "language_info": {
   "codemirror_mode": {
    "name": "ipython",
    "version": 3
   },
   "file_extension": ".py",
   "mimetype": "text/x-python",
   "name": "python",
   "nbconvert_exporter": "python",
   "pygments_lexer": "ipython3",
   "version": "3.7.2"
  },
  "varInspector": {
   "cols": {
    "lenName": 16,
    "lenType": 16,
    "lenVar": 40
   },
   "kernels_config": {
    "python": {
     "delete_cmd_postfix": "",
     "delete_cmd_prefix": "del ",
     "library": "var_list.py",
     "varRefreshCmd": "print(var_dic_list())"
    },
    "r": {
     "delete_cmd_postfix": ") ",
     "delete_cmd_prefix": "rm(",
     "library": "var_list.r",
     "varRefreshCmd": "cat(var_dic_list()) "
    }
   },
   "types_to_exclude": [
    "module",
    "function",
    "builtin_function_or_method",
    "instance",
    "_Feature"
   ],
   "window_display": false
  }
 },
 "nbformat": 4,
 "nbformat_minor": 2
}
